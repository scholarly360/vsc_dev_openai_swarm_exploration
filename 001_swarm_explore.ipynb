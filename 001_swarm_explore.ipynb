{
 "cells": [
  {
   "cell_type": "markdown",
   "metadata": {},
   "source": [
    "Swarm Exploration\n",
    "\n",
    "\n",
    "\n",
    "\n"
   ]
  },
  {
   "cell_type": "code",
   "execution_count": 1,
   "metadata": {},
   "outputs": [
    {
     "data": {
      "text/plain": [
       "True"
      ]
     },
     "execution_count": 1,
     "metadata": {},
     "output_type": "execute_result"
    }
   ],
   "source": [
    "from dotenv import load_dotenv\n",
    "import os\n",
    "from pprint import pprint\n",
    "load_dotenv()"
   ]
  },
  {
   "cell_type": "markdown",
   "metadata": {},
   "source": [
    "### Explorations"
   ]
  },
  {
   "cell_type": "code",
   "execution_count": 2,
   "metadata": {},
   "outputs": [],
   "source": [
    "from swarm import Swarm, Agent"
   ]
  },
  {
   "cell_type": "code",
   "execution_count": 2,
   "metadata": {},
   "outputs": [
    {
     "ename": "NameError",
     "evalue": "name 'pprint' is not defined",
     "output_type": "error",
     "traceback": [
      "\u001b[0;31m---------------------------------------------------------------------------\u001b[0m",
      "\u001b[0;31mNameError\u001b[0m                                 Traceback (most recent call last)",
      "Cell \u001b[0;32mIn[2], line 25\u001b[0m\n\u001b[1;32m     23\u001b[0m messages \u001b[38;5;241m=\u001b[39m [{\u001b[38;5;124m\"\u001b[39m\u001b[38;5;124mrole\u001b[39m\u001b[38;5;124m\"\u001b[39m: \u001b[38;5;124m\"\u001b[39m\u001b[38;5;124muser\u001b[39m\u001b[38;5;124m\"\u001b[39m, \u001b[38;5;124m\"\u001b[39m\u001b[38;5;124mcontent\u001b[39m\u001b[38;5;124m\"\u001b[39m: \u001b[38;5;124m\"\u001b[39m\u001b[38;5;124mHola. ¿Como estás?\u001b[39m\u001b[38;5;124m\"\u001b[39m}]\n\u001b[1;32m     24\u001b[0m response \u001b[38;5;241m=\u001b[39m client\u001b[38;5;241m.\u001b[39mrun(agent\u001b[38;5;241m=\u001b[39menglish_agent, messages\u001b[38;5;241m=\u001b[39mmessages)\n\u001b[0;32m---> 25\u001b[0m \u001b[43mpprint\u001b[49m(response\u001b[38;5;241m.\u001b[39mmessages)\n",
      "\u001b[0;31mNameError\u001b[0m: name 'pprint' is not defined"
     ]
    }
   ],
   "source": [
    "\"\"\"\n",
    "Simple HandOff Example 1\n",
    "\"\"\"\n",
    "\n",
    "def transfer_to_spanish_agent():\n",
    "    \"\"\"Transfer spanish speaking users immediately.\"\"\"\n",
    "    return spanish_agent\n",
    "\n",
    "english_agent = Agent(name=\"English Agent\",\n",
    "                      instructions=\"You only speak English.\",\n",
    "                      model_override=\"gpt-4o-mini\",\n",
    "                      functions=[transfer_to_spanish_agent],\n",
    "                      max_turns=2\n",
    "                      )\n",
    "\n",
    "spanish_agent = Agent(name=\"Spanish Agent\",\n",
    "                    instructions=\"You only speak Spanish.\",\n",
    "                    model_override=\"gpt-4o-mini\",\n",
    "                    max_turns=2\n",
    ")\n",
    "\n",
    "client = Swarm()\n",
    "messages = [{\"role\": \"user\", \"content\": \"Hola. ¿Como estás?\"}]\n",
    "response = client.run(agent=english_agent, messages=messages)\n",
    "pprint(response.messages)\n"
   ]
  },
  {
   "cell_type": "code",
   "execution_count": 4,
   "metadata": {},
   "outputs": [
    {
     "name": "stdout",
     "output_type": "stream",
     "text": [
      "[{'content': \"Hello! I'm able to assist you in English. How can I help you \"\n",
      "             'today?',\n",
      "  'function_call': None,\n",
      "  'refusal': None,\n",
      "  'role': 'assistant',\n",
      "  'sender': 'English Agent',\n",
      "  'tool_calls': None}]\n"
     ]
    }
   ],
   "source": [
    "\"\"\"\n",
    "Simple HandOff Example 2 : Failure to HandOff\n",
    "\"\"\"\n",
    "\n",
    "def transfer_to_spanish_agent():\n",
    "    \"\"\"Transfer spanish speaking users immediately.\"\"\"\n",
    "    return spanish_agent\n",
    "\n",
    "english_agent = Agent(name=\"English Agent\",\n",
    "                      instructions=\"You only speak English.\",\n",
    "                      model_override=\"gpt-4o-mini\",\n",
    "                      functions=[transfer_to_spanish_agent],\n",
    "                      max_turns=2\n",
    "                      )\n",
    "\n",
    "spanish_agent = Agent(name=\"Spanish Agent\",\n",
    "                    instructions=\"You only speak Spanish.\",\n",
    "                    model_override=\"gpt-4o-mini\",\n",
    "                    max_turns=2\n",
    ")\n",
    "\n",
    "client = Swarm()\n",
    "messages = [{\"role\": \"user\", \"content\": \"Bonjour. Comment ça va?\"}]\n",
    "response = client.run(agent=english_agent, messages=messages)\n",
    "pprint(response.messages)\n"
   ]
  },
  {
   "cell_type": "code",
   "execution_count": 3,
   "metadata": {},
   "outputs": [],
   "source": [
    "\"\"\"\n",
    "Triage Agent Example : (Modified Origional Examples)\n",
    "\n",
    "TRIAGE AGENT \n",
    "REFUND AGENT \n",
    "SALES AGENT\n",
    "\n",
    "\"\"\"\n",
    "from swarm import Agent\n",
    "\n",
    "def process_refund(item_id, reason=\"NOT SPECIFIED\"):\n",
    "    \"\"\"Refund an item. Refund an item. Make sure you have the item_id of the form item_... Ask for user confirmation before processing the refund.\"\"\"\n",
    "    print(f\"[mock] Refunding item {item_id} because {reason}...\")\n",
    "    return \"Success!\"\n",
    "\n",
    "def apply_discount():\n",
    "    \"\"\"Apply a discount to the user's cart.\"\"\"\n",
    "    print(\"[mock] Applying discount...\")\n",
    "    return \"Applied discount of 11%\"\n",
    "\n",
    "def transfer_back_to_triage():\n",
    "    \"\"\"Call this function if a user is asking about a topic that is not handled by the current agent.\"\"\"\n",
    "    return triage_agent\n",
    "\n",
    "def transfer_to_sales():\n",
    "    return sales_agent\n",
    "\n",
    "def transfer_to_refunds():\n",
    "    return refunds_agent\n",
    "\n",
    "triage_agent = Agent(\n",
    "    name=\"Triage Agent\",\n",
    "    instructions=\"Determine which agent is best suited to handle the user's request, and transfer the conversation to that agent.\",\n",
    "    model_override=\"gpt-4o-mini\",\n",
    "    functions=[transfer_to_sales, transfer_to_refunds],max_turns=3\n",
    ")\n",
    "sales_agent = Agent(\n",
    "    name=\"Sales Agent\",\n",
    "    instructions=\"Be super enthusiastic about selling bees.\",\n",
    "    model_override=\"gpt-4o-mini\",\n",
    "    functions=[transfer_back_to_triage],max_turns=3\n",
    ")\n",
    "refunds_agent = Agent(\n",
    "    name=\"Refunds Agent\",\n",
    "    instructions=\"Help the user with a refund. If the reason is that it was too expensive, offer the user a refund code. If they insist, then process the refund.\",\n",
    "    model_override=\"gpt-4o-mini\",\n",
    "    functions=[process_refund, apply_discount,transfer_back_to_triage],max_turns=3\n",
    ")\n",
    "\n",
    "\n",
    "\n"
   ]
  },
  {
   "cell_type": "code",
   "execution_count": 10,
   "metadata": {},
   "outputs": [
    {
     "name": "stdout",
     "output_type": "stream",
     "text": [
      "[{'content': None,\n",
      "  'function_call': None,\n",
      "  'refusal': None,\n",
      "  'role': 'assistant',\n",
      "  'sender': 'Triage Agent',\n",
      "  'tool_calls': [{'function': {'arguments': '{}', 'name': 'transfer_to_sales'},\n",
      "                  'id': 'call_7kA3DoSSFrEg2vjgODQxl9gT',\n",
      "                  'type': 'function'}]},\n",
      " {'content': '{\"assistant\": \"Sales Agent\"}',\n",
      "  'role': 'tool',\n",
      "  'tool_call_id': 'call_7kA3DoSSFrEg2vjgODQxl9gT',\n",
      "  'tool_name': 'transfer_to_sales'},\n",
      " {'content': \"Are you interested in acquiring bees? 🐝 Oh my goodness, you're \"\n",
      "             'making a buzzing-ly brilliant choice! Bees are not just '\n",
      "             \"essential for our ecosystem, but they're also fascinating \"\n",
      "             'creatures to have around. Let me set you on the right path to '\n",
      "             'becoming a proud bee owner! \\n'\n",
      "             '\\n'\n",
      "             'Would you like to know more about the different types of bees we '\n",
      "             'have available, the incredible benefits of having bees, or tips '\n",
      "             'on getting started with beekeeping? Let us guide you into the '\n",
      "             'wonderful world of bees! 🌻🍯',\n",
      "  'function_call': None,\n",
      "  'refusal': None,\n",
      "  'role': 'assistant',\n",
      "  'sender': 'Sales Agent',\n",
      "  'tool_calls': None}]\n"
     ]
    }
   ],
   "source": [
    "\"\"\" \n",
    "Scenario 1\n",
    "\n",
    "\"\"\"\n",
    "\n",
    "client = Swarm()\n",
    "messages = [{\"role\": \"user\", \"content\": \"I want to purchase \"}]\n",
    "response = client.run(agent=triage_agent, messages=messages)\n",
    "pprint(response.messages)"
   ]
  },
  {
   "cell_type": "code",
   "execution_count": null,
   "metadata": {},
   "outputs": [
    {
     "name": "stdout",
     "output_type": "stream",
     "text": [
      "Starting Swarm CLI 🐝\n",
      "\u001b[94mTriage Agent:\u001b[0m It seems like you haven't made a request yet. How can I assist you today?\n",
      "\u001b[94mTriage Agent: \u001b[95mtransfer_to_sales\u001b[0m()\n",
      "\u001b[94mSales Agent:\u001b[0m I'm transferring you to our fabulous Sales Agent, who will assist you in finding the perfect shirts. They'll be right with you!\n",
      "\u001b[94mSales Agent:\u001b[0m It looks like you haven't entered a message. If you need assistance, feel free to ask!\n",
      "\u001b[94mSales Agent: \u001b[95mtransfer_back_to_triage\u001b[0m()\n",
      "\u001b[94mTriage Agent:\u001b[0m I'll transfer you to our Refunds Department, where they can assist you with getting your refund processed. One moment, please!\n",
      "\u001b[94mTriage Agent:\u001b[0m If you have any more questions or need further assistance, feel free to let me know!\n",
      "\u001b[94mTriage Agent:\u001b[0m It looks like you haven't entered a message. If you need assistance, feel free to ask!\n",
      "\u001b[94mTriage Agent:\u001b[0m If you have a request or need assistance, please feel free to type it here, and I'll be happy to help you!\n"
     ]
    }
   ],
   "source": [
    "\"\"\" \n",
    "Scenario 2\n",
    "\n",
    "\"\"\"\n",
    "from swarm.repl import run_demo_loop\n",
    "client = Swarm()\n",
    "run_demo_loop(triage_agent, stream=True)"
   ]
  }
 ],
 "metadata": {
  "kernelspec": {
   "display_name": "Python 3",
   "language": "python",
   "name": "python3"
  },
  "language_info": {
   "codemirror_mode": {
    "name": "ipython",
    "version": 3
   },
   "file_extension": ".py",
   "mimetype": "text/x-python",
   "name": "python",
   "nbconvert_exporter": "python",
   "pygments_lexer": "ipython3",
   "version": "3.12.6"
  }
 },
 "nbformat": 4,
 "nbformat_minor": 2
}
